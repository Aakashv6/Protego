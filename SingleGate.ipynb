{
 "cells": [
  {
   "cell_type": "code",
   "execution_count": 1,
   "metadata": {},
   "outputs": [],
   "source": [
    "from qutip import *"
   ]
  },
  {
   "cell_type": "code",
   "execution_count": 2,
   "metadata": {},
   "outputs": [],
   "source": [
    "%matplotlib inline\n",
    "import matplotlib.pyplot as plt\n",
    "import numpy as np"
   ]
  },
  {
   "cell_type": "code",
   "execution_count": 3,
   "metadata": {},
   "outputs": [],
   "source": [
    "# Dot product between a matrix vector and a vector  \n",
    "def dot(x,y):\n",
    "    result = 0\n",
    "\n",
    "    for i in range(len(y)):\n",
    "        result = result + x[i]*y[i]\n",
    "\n",
    "    return result"
   ]
  },
  {
   "cell_type": "code",
   "execution_count": 4,
   "metadata": {},
   "outputs": [],
   "source": [
    "#Hamiltonian\n",
    "def hamiltonian(hbar,gyro_ratio,B,amp):\n",
    "        \n",
    "    # Magnetic fields direction\n",
    "    B = np.array([1,0,1])\n",
    "\n",
    "    # Magnetic field\n",
    "    for i in range(len(B)):\n",
    "        B[i] = B[i]*amp[i]\n",
    "\n",
    "    # Operators\n",
    "\n",
    "    sx = sigmax()\n",
    "    sy = sigmay()\n",
    "    sz = sigmaz()\n",
    "\n",
    "    # Spin angular momentum operator\n",
    "    I = [sx,sy,sz]\n",
    "\n",
    "    # Magnetic moment operator\n",
    "    mu = I\n",
    "\n",
    "    for i  in range(len(I)):\n",
    "        mu[i] = hbar * gyro_ratio * I[i]\n",
    "\n",
    "    # Hamiltonian\n",
    "    H = -1*dot(mu,B)\n",
    "        \n",
    "    return H"
   ]
  },
  {
   "cell_type": "code",
   "execution_count": 5,
   "metadata": {},
   "outputs": [],
   "source": [
    "class SingleGate:\n",
    "    \n",
    "    def __init__(self, hbar, gyro_ratio, B = np.array([1,0,1]), amp=[1,1,1]):\n",
    "        \n",
    "        self.H = hamiltonian(hbar,gyro_ratio,B,amp)\n",
    "        self.gyro_ratio = gyro_ratio\n",
    "        self.B = B\n",
    "        self.amp = amp\n",
    "    \n",
    "    \n",
    "    # Pulse and amplitude\n",
    "    def pulse(self, t, psi):\n",
    "\n",
    "        fac = 10 \n",
    "        n = fac * t\n",
    "        tlist = np.linspace(0, t, n)\n",
    "        res = mesolve(self.H, psi, tlist, [], [])\n",
    "\n",
    "        return res, tlist, n\n",
    "    \n",
    "    def measure(self, qbit, n_measurements, true=0, false=0):\n",
    "        a = qbit[0]  # a\n",
    "        b = qbit[0]  # b\n",
    "        \n",
    "        bins = []\n",
    "        n_false = 0\n",
    "        error = 0\n",
    "        \n",
    "        for i in range(n_measurements):\n",
    "            \n",
    "            if np.random.random() <= np.abs(a) ** 2:\n",
    "                result = 0\n",
    "            else:\n",
    "                result = 1\n",
    "\n",
    "            bit = result\n",
    "            if bit == false:\n",
    "                n_false += 1\n",
    "\n",
    "            bins.append(bit)\n",
    "\n",
    "        error = n_false/n_measurements\n",
    "    \n",
    "        return bins, error"
   ]
  },
  {
   "cell_type": "code",
   "execution_count": 6,
   "metadata": {},
   "outputs": [],
   "source": [
    "#Probing the results\n",
    "def probe(res, t_probe, t, n):\n",
    "    n_probe = (t_probe/t)*(n)\n",
    "    if (t_probe/t)==1 :\n",
    "        return res.states[-1]\n",
    "    else:\n",
    "        return res.states[int(n_probe)]"
   ]
  },
  {
   "cell_type": "code",
   "execution_count": 7,
   "metadata": {},
   "outputs": [],
   "source": [
    "# Making a direction from qubit\n",
    "def qvec(vector):\n",
    "    \n",
    "    theta = []\n",
    "    phi = []\n",
    "\n",
    "    for i in range(len(vector)):\n",
    "        a, b = vector[i][0],vector[i][1]\n",
    "\n",
    "        theta_i = 2 * np.arccos(np.absolute(a))\n",
    "\n",
    "        if theta_i!=0.0 and b!=1.0 : \n",
    "            phi_i = np.arccos((b + np.conj(b))/((2.0)*np.sin(theta_i/2)))\n",
    "            phi_i = phi_i + np.arccos((a + np.conj(a))/((2.0)*np.cos(theta_i/2)))\n",
    "        else:\n",
    "            phi_i = 0.0\n",
    "\n",
    "        theta.append(theta_i)\n",
    "        phi.append(np.absolute(phi_i))\n",
    "            \n",
    "    theta, phi = np.asarray(theta), np.asarray(phi)\n",
    "    theta = theta.flatten()\n",
    "    phi = phi.flatten()\n",
    "        \n",
    "    return theta, phi"
   ]
  },
  {
   "cell_type": "code",
   "execution_count": 8,
   "metadata": {},
   "outputs": [],
   "source": [
    "# Direction of any Vector\n",
    "def direction(vector): \n",
    "    x, y, z = vector[0],vector[1],vector[2]\n",
    "    r = np.sqrt(x**2 + y**2 + z**2)\n",
    "    phi = np.arctan2(y, x)\n",
    "    theta = np.arccos(z / r)\n",
    "    return np.array([theta, phi])"
   ]
  },
  {
   "cell_type": "code",
   "execution_count": 9,
   "metadata": {},
   "outputs": [],
   "source": [
    "# Making a Qubit\n",
    "def qubit(angle):\n",
    "    up = ket(\"0\")\n",
    "    down = ket(\"1\")\n",
    "    a = np.cos(angle[0]/2.0)\n",
    "    b = np.exp(1j*angle[1])*np.sin(angle[0]/2.0)\n",
    "    qubit = a*up + b*down\n",
    "    \n",
    "    return qubit"
   ]
  }
 ],
 "metadata": {
  "kernelspec": {
   "display_name": "Python 3",
   "language": "python",
   "name": "python3"
  },
  "language_info": {
   "codemirror_mode": {
    "name": "ipython",
    "version": 3
   },
   "file_extension": ".py",
   "mimetype": "text/x-python",
   "name": "python",
   "nbconvert_exporter": "python",
   "pygments_lexer": "ipython3",
   "version": "3.6.10"
  }
 },
 "nbformat": 4,
 "nbformat_minor": 4
}
